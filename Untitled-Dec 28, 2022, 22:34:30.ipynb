{
  "cells": [
    {
      "cell_type": "code",
      "source": [
        "%%sql --database SampleDB --container SampleContainer\n",
        "select * from C"
      ],
      "outputs": [
        {
          "output_type": "display_data",
          "data": {
            "text/html": "\n<div>\n  <style type='text/css' scoped>\n.collapsible {\n  background-color: #fff;\n  color: #0078D4;\n  cursor: pointer;\n  padding: 10px;\n  border: none;\n  text-align: left;\n  outline: none;\n  font-size: 15px;\n  border-radius: 5px;\n  margin: 5px\n}\n\n.active, .collapsible:hover {\n  color: #4db2ff;\n}\n\n.content {\n  margin: 2px;\n  padding: 0 18px;\n  overflow: hidden;\n  background-color: #fff;\n  height: 0px;\n  -moz-transition: height .2s ease-out;\n  -ms-transition: height .2s ease-out;\n  -o-transition: height .2s ease-out;\n  -webkit-transition: height .2s ease-out;\n  transition: height .2s ease-out;\n}\n</style>\n\n<button type='button' class='collapsible'>▶ View Query Metrics</button>\n  \n<div class='content'>\n  <div class='measuringWrapper'>\n    <span style=\"color:#0078D4\"><b>totalExecutionTimeInMs    </b>:    0.26<br/><b>queryCompileTimeInMs    </b>:    0.03<br/><b>queryLogicalPlanBuildTimeInMs    </b>:    0<br/><b>queryPhysicalPlanBuildTimeInMs    </b>:    0.01<br/><b>queryOptimizationTimeInMs    </b>:    0<br/><b>VMExecutionTimeInMs    </b>:    0.11<br/><b>indexLookupTimeInMs    </b>:    0<br/><b>instructionCount    </b>:    89<br/><b>documentLoadTimeInMs    </b>:    0.09<br/><b>systemFunctionExecuteTimeInMs    </b>:    0<br/><b>userFunctionExecuteTimeInMs    </b>:    0<br/><b>retrievedDocumentCount    </b>:    21<br/><b>retrievedDocumentSize    </b>:    6044<br/><b>outputDocumentCount    </b>:    21<br/><b>outputDocumentSize    </b>:    6114<br/><b>writeOutputTimeInMs    </b>:    0<br/><b>averageIndexUtilizationRation    </b>:    1<br/></span>\n  </div>\n</div>\n\n<script>\nvar coll = document.getElementsByClassName('collapsible');\nvar i;\n\nfor (i = 0; i < coll.length; i++) {\n  \n  coll[i].addEventListener('click', function() {\n    this.classList.toggle('active');\n    var content = this.nextElementSibling;\n    \n    if (content.clientHeight != 0) {\n      this.textContent = '▶ View Query Metrics';\n      content.style.height = '0px';\n    }\n    else {\n      this.textContent = '▼ Hide Query Metrics';\n      content.style.height = content.children[0].clientHeight + 'px';\n    }\n  });\n}\n</script>\n</div>"
          },
          "metadata": {}
        },
        {
          "output_type": "display_data",
          "data": {
            "text/plain": "                        address                                    id  \\\n0            8923, 133RD AVE SE  12ded5f6-a43a-4c73-9fb5-eab71e23448f   \n1             10900, SE 66TH ST  511612dd-b2f9-4638-a3f2-85e1700050be   \n2             1455, 159TH PL NE  4033a448-fa35-449c-aa68-0ccf1bc63857   \n3              2007, NE 37TH PL  87c459b5-067b-45db-a65f-74370f9b6df6   \n4             15825, NE 14TH RD  e198ab7a-9001-4bd1-a6f4-b60a5fb62498   \n5             5029, 159TH PL SE  88c167eb-855b-4d33-8b13-bd39aee6987d   \n6             4021, 129TH CT SE  1aae9ca0-59a0-4eff-8c7c-f02bafd49b5e   \n7            6260, 139TH AVE NE  3775825c-6b03-463f-8c38-dee78f29e8e4   \n8             1418, 157TH CT NE  1b869f4e-e7d3-42c1-890d-aba446681c7a   \n9         13812, NE SPRING BLVD  58eb7527-09ab-4ebb-9124-92eb7541ed5b   \n10            12226, NE 37TH ST  b9835e07-09dc-4b86-b441-acdab92c2d91   \n11              1124, N 33RD ST  489c6b88-b378-4559-b3d5-742b59958ae9   \n12            4288, 131ST PL SE  976800fb-d10b-459d-867c-480be1fbaf86   \n13             889, 131ST PL NE  f88d9919-ba0f-44d8-944f-148ef8002445   \n14        13427, NE SPRING BLVD  c150b118-ef05-4ee1-b791-07b231a96c86   \n15  11635, SE MAY CREEK PARK DR  58ffe62b-979d-4b37-8c39-44c6f383da29   \n16            1561, 139TH LN NE  78394ca2-a3ce-4010-80ec-528a52bcfdbb   \n17            13901, NE 15TH CT  b2ff9762-716e-498c-beed-d89eab494ca5   \n18            1575, 139TH CT NE  1922f220-fbe4-4e30-ab54-ccc915b16d99   \n19           8604, 117TH AVE SE  f0684188-126a-4113-8d4b-e76757fb7b7e   \n20            16365, NE 12TH PL  b7b84df6-d834-4316-8d45-9593927e8634   \n\n                        _rid  \\\n0   q0dzAPXuXj8BAAAAAAAAAA==   \n1   q0dzAPXuXj8CAAAAAAAAAA==   \n2   q0dzAPXuXj8DAAAAAAAAAA==   \n3   q0dzAPXuXj8EAAAAAAAAAA==   \n4   q0dzAPXuXj8FAAAAAAAAAA==   \n5   q0dzAPXuXj8GAAAAAAAAAA==   \n6   q0dzAPXuXj8HAAAAAAAAAA==   \n7   q0dzAPXuXj8IAAAAAAAAAA==   \n8   q0dzAPXuXj8JAAAAAAAAAA==   \n9   q0dzAPXuXj8KAAAAAAAAAA==   \n10  q0dzAPXuXj8LAAAAAAAAAA==   \n11  q0dzAPXuXj8MAAAAAAAAAA==   \n12  q0dzAPXuXj8NAAAAAAAAAA==   \n13  q0dzAPXuXj8OAAAAAAAAAA==   \n14  q0dzAPXuXj8PAAAAAAAAAA==   \n15  q0dzAPXuXj8QAAAAAAAAAA==   \n16  q0dzAPXuXj8RAAAAAAAAAA==   \n17  q0dzAPXuXj8SAAAAAAAAAA==   \n18  q0dzAPXuXj8TAAAAAAAAAA==   \n19  q0dzAPXuXj8UAAAAAAAAAA==   \n20  q0dzAPXuXj8VAAAAAAAAAA==   \n\n                                                _self  \\\n0   dbs/q0dzAA==/colls/q0dzAPXuXj8=/docs/q0dzAPXuX...   \n1   dbs/q0dzAA==/colls/q0dzAPXuXj8=/docs/q0dzAPXuX...   \n2   dbs/q0dzAA==/colls/q0dzAPXuXj8=/docs/q0dzAPXuX...   \n3   dbs/q0dzAA==/colls/q0dzAPXuXj8=/docs/q0dzAPXuX...   \n4   dbs/q0dzAA==/colls/q0dzAPXuXj8=/docs/q0dzAPXuX...   \n5   dbs/q0dzAA==/colls/q0dzAPXuXj8=/docs/q0dzAPXuX...   \n6   dbs/q0dzAA==/colls/q0dzAPXuXj8=/docs/q0dzAPXuX...   \n7   dbs/q0dzAA==/colls/q0dzAPXuXj8=/docs/q0dzAPXuX...   \n8   dbs/q0dzAA==/colls/q0dzAPXuXj8=/docs/q0dzAPXuX...   \n9   dbs/q0dzAA==/colls/q0dzAPXuXj8=/docs/q0dzAPXuX...   \n10  dbs/q0dzAA==/colls/q0dzAPXuXj8=/docs/q0dzAPXuX...   \n11  dbs/q0dzAA==/colls/q0dzAPXuXj8=/docs/q0dzAPXuX...   \n12  dbs/q0dzAA==/colls/q0dzAPXuXj8=/docs/q0dzAPXuX...   \n13  dbs/q0dzAA==/colls/q0dzAPXuXj8=/docs/q0dzAPXuX...   \n14  dbs/q0dzAA==/colls/q0dzAPXuXj8=/docs/q0dzAPXuX...   \n15  dbs/q0dzAA==/colls/q0dzAPXuXj8=/docs/q0dzAPXuX...   \n16  dbs/q0dzAA==/colls/q0dzAPXuXj8=/docs/q0dzAPXuX...   \n17  dbs/q0dzAA==/colls/q0dzAPXuXj8=/docs/q0dzAPXuX...   \n18  dbs/q0dzAA==/colls/q0dzAPXuXj8=/docs/q0dzAPXuX...   \n19  dbs/q0dzAA==/colls/q0dzAPXuXj8=/docs/q0dzAPXuX...   \n20  dbs/q0dzAA==/colls/q0dzAPXuXj8=/docs/q0dzAPXuX...   \n\n                                     _etag  _attachments         _ts  \n0   \"51035b32-0000-0700-0000-63909b5d0000\"  attachments/  1670421341  \n1   \"51035c32-0000-0700-0000-63909b5d0000\"  attachments/  1670421341  \n2   \"51035d32-0000-0700-0000-63909b5d0000\"  attachments/  1670421341  \n3   \"51035e32-0000-0700-0000-63909b5d0000\"  attachments/  1670421341  \n4   \"51035f32-0000-0700-0000-63909b5d0000\"  attachments/  1670421341  \n5   \"51036432-0000-0700-0000-63909b5d0000\"  attachments/  1670421341  \n6   \"51036532-0000-0700-0000-63909b5d0000\"  attachments/  1670421341  \n7   \"51036732-0000-0700-0000-63909b5d0000\"  attachments/  1670421341  \n8   \"51036832-0000-0700-0000-63909b5d0000\"  attachments/  1670421341  \n9   \"51036a32-0000-0700-0000-63909b5d0000\"  attachments/  1670421341  \n10  \"51036b32-0000-0700-0000-63909b5d0000\"  attachments/  1670421341  \n11  \"51036c32-0000-0700-0000-63909b5d0000\"  attachments/  1670421341  \n12  \"51036d32-0000-0700-0000-63909b5d0000\"  attachments/  1670421341  \n13  \"51036e32-0000-0700-0000-63909b5d0000\"  attachments/  1670421341  \n14  \"51036f32-0000-0700-0000-63909b5d0000\"  attachments/  1670421341  \n15  \"51037032-0000-0700-0000-63909b5d0000\"  attachments/  1670421341  \n16  \"51037132-0000-0700-0000-63909b5d0000\"  attachments/  1670421341  \n17  \"51037232-0000-0700-0000-63909b5d0000\"  attachments/  1670421341  \n18  \"51037332-0000-0700-0000-63909b5d0000\"  attachments/  1670421341  \n19  \"51037932-0000-0700-0000-63909b5d0000\"  attachments/  1670421341  \n20  \"51037a32-0000-0700-0000-63909b5d0000\"  attachments/  1670421341  ",
            "text/html": "<div>\n<style scoped>\n    .dataframe tbody tr th:only-of-type {\n        vertical-align: middle;\n    }\n\n    .dataframe tbody tr th {\n        vertical-align: top;\n    }\n\n    .dataframe thead th {\n        text-align: right;\n    }\n</style>\n<table border=\"1\" class=\"dataframe\">\n  <thead>\n    <tr style=\"text-align: right;\">\n      <th></th>\n      <th>address</th>\n      <th>id</th>\n      <th>_rid</th>\n      <th>_self</th>\n      <th>_etag</th>\n      <th>_attachments</th>\n      <th>_ts</th>\n    </tr>\n  </thead>\n  <tbody>\n    <tr>\n      <th>0</th>\n      <td>8923, 133RD AVE SE</td>\n      <td>12ded5f6-a43a-4c73-9fb5-eab71e23448f</td>\n      <td>q0dzAPXuXj8BAAAAAAAAAA==</td>\n      <td>dbs/q0dzAA==/colls/q0dzAPXuXj8=/docs/q0dzAPXuX...</td>\n      <td>\"51035b32-0000-0700-0000-63909b5d0000\"</td>\n      <td>attachments/</td>\n      <td>1670421341</td>\n    </tr>\n    <tr>\n      <th>1</th>\n      <td>10900, SE 66TH ST</td>\n      <td>511612dd-b2f9-4638-a3f2-85e1700050be</td>\n      <td>q0dzAPXuXj8CAAAAAAAAAA==</td>\n      <td>dbs/q0dzAA==/colls/q0dzAPXuXj8=/docs/q0dzAPXuX...</td>\n      <td>\"51035c32-0000-0700-0000-63909b5d0000\"</td>\n      <td>attachments/</td>\n      <td>1670421341</td>\n    </tr>\n    <tr>\n      <th>2</th>\n      <td>1455, 159TH PL NE</td>\n      <td>4033a448-fa35-449c-aa68-0ccf1bc63857</td>\n      <td>q0dzAPXuXj8DAAAAAAAAAA==</td>\n      <td>dbs/q0dzAA==/colls/q0dzAPXuXj8=/docs/q0dzAPXuX...</td>\n      <td>\"51035d32-0000-0700-0000-63909b5d0000\"</td>\n      <td>attachments/</td>\n      <td>1670421341</td>\n    </tr>\n    <tr>\n      <th>3</th>\n      <td>2007, NE 37TH PL</td>\n      <td>87c459b5-067b-45db-a65f-74370f9b6df6</td>\n      <td>q0dzAPXuXj8EAAAAAAAAAA==</td>\n      <td>dbs/q0dzAA==/colls/q0dzAPXuXj8=/docs/q0dzAPXuX...</td>\n      <td>\"51035e32-0000-0700-0000-63909b5d0000\"</td>\n      <td>attachments/</td>\n      <td>1670421341</td>\n    </tr>\n    <tr>\n      <th>4</th>\n      <td>15825, NE 14TH RD</td>\n      <td>e198ab7a-9001-4bd1-a6f4-b60a5fb62498</td>\n      <td>q0dzAPXuXj8FAAAAAAAAAA==</td>\n      <td>dbs/q0dzAA==/colls/q0dzAPXuXj8=/docs/q0dzAPXuX...</td>\n      <td>\"51035f32-0000-0700-0000-63909b5d0000\"</td>\n      <td>attachments/</td>\n      <td>1670421341</td>\n    </tr>\n    <tr>\n      <th>5</th>\n      <td>5029, 159TH PL SE</td>\n      <td>88c167eb-855b-4d33-8b13-bd39aee6987d</td>\n      <td>q0dzAPXuXj8GAAAAAAAAAA==</td>\n      <td>dbs/q0dzAA==/colls/q0dzAPXuXj8=/docs/q0dzAPXuX...</td>\n      <td>\"51036432-0000-0700-0000-63909b5d0000\"</td>\n      <td>attachments/</td>\n      <td>1670421341</td>\n    </tr>\n    <tr>\n      <th>6</th>\n      <td>4021, 129TH CT SE</td>\n      <td>1aae9ca0-59a0-4eff-8c7c-f02bafd49b5e</td>\n      <td>q0dzAPXuXj8HAAAAAAAAAA==</td>\n      <td>dbs/q0dzAA==/colls/q0dzAPXuXj8=/docs/q0dzAPXuX...</td>\n      <td>\"51036532-0000-0700-0000-63909b5d0000\"</td>\n      <td>attachments/</td>\n      <td>1670421341</td>\n    </tr>\n    <tr>\n      <th>7</th>\n      <td>6260, 139TH AVE NE</td>\n      <td>3775825c-6b03-463f-8c38-dee78f29e8e4</td>\n      <td>q0dzAPXuXj8IAAAAAAAAAA==</td>\n      <td>dbs/q0dzAA==/colls/q0dzAPXuXj8=/docs/q0dzAPXuX...</td>\n      <td>\"51036732-0000-0700-0000-63909b5d0000\"</td>\n      <td>attachments/</td>\n      <td>1670421341</td>\n    </tr>\n    <tr>\n      <th>8</th>\n      <td>1418, 157TH CT NE</td>\n      <td>1b869f4e-e7d3-42c1-890d-aba446681c7a</td>\n      <td>q0dzAPXuXj8JAAAAAAAAAA==</td>\n      <td>dbs/q0dzAA==/colls/q0dzAPXuXj8=/docs/q0dzAPXuX...</td>\n      <td>\"51036832-0000-0700-0000-63909b5d0000\"</td>\n      <td>attachments/</td>\n      <td>1670421341</td>\n    </tr>\n    <tr>\n      <th>9</th>\n      <td>13812, NE SPRING BLVD</td>\n      <td>58eb7527-09ab-4ebb-9124-92eb7541ed5b</td>\n      <td>q0dzAPXuXj8KAAAAAAAAAA==</td>\n      <td>dbs/q0dzAA==/colls/q0dzAPXuXj8=/docs/q0dzAPXuX...</td>\n      <td>\"51036a32-0000-0700-0000-63909b5d0000\"</td>\n      <td>attachments/</td>\n      <td>1670421341</td>\n    </tr>\n    <tr>\n      <th>10</th>\n      <td>12226, NE 37TH ST</td>\n      <td>b9835e07-09dc-4b86-b441-acdab92c2d91</td>\n      <td>q0dzAPXuXj8LAAAAAAAAAA==</td>\n      <td>dbs/q0dzAA==/colls/q0dzAPXuXj8=/docs/q0dzAPXuX...</td>\n      <td>\"51036b32-0000-0700-0000-63909b5d0000\"</td>\n      <td>attachments/</td>\n      <td>1670421341</td>\n    </tr>\n    <tr>\n      <th>11</th>\n      <td>1124, N 33RD ST</td>\n      <td>489c6b88-b378-4559-b3d5-742b59958ae9</td>\n      <td>q0dzAPXuXj8MAAAAAAAAAA==</td>\n      <td>dbs/q0dzAA==/colls/q0dzAPXuXj8=/docs/q0dzAPXuX...</td>\n      <td>\"51036c32-0000-0700-0000-63909b5d0000\"</td>\n      <td>attachments/</td>\n      <td>1670421341</td>\n    </tr>\n    <tr>\n      <th>12</th>\n      <td>4288, 131ST PL SE</td>\n      <td>976800fb-d10b-459d-867c-480be1fbaf86</td>\n      <td>q0dzAPXuXj8NAAAAAAAAAA==</td>\n      <td>dbs/q0dzAA==/colls/q0dzAPXuXj8=/docs/q0dzAPXuX...</td>\n      <td>\"51036d32-0000-0700-0000-63909b5d0000\"</td>\n      <td>attachments/</td>\n      <td>1670421341</td>\n    </tr>\n    <tr>\n      <th>13</th>\n      <td>889, 131ST PL NE</td>\n      <td>f88d9919-ba0f-44d8-944f-148ef8002445</td>\n      <td>q0dzAPXuXj8OAAAAAAAAAA==</td>\n      <td>dbs/q0dzAA==/colls/q0dzAPXuXj8=/docs/q0dzAPXuX...</td>\n      <td>\"51036e32-0000-0700-0000-63909b5d0000\"</td>\n      <td>attachments/</td>\n      <td>1670421341</td>\n    </tr>\n    <tr>\n      <th>14</th>\n      <td>13427, NE SPRING BLVD</td>\n      <td>c150b118-ef05-4ee1-b791-07b231a96c86</td>\n      <td>q0dzAPXuXj8PAAAAAAAAAA==</td>\n      <td>dbs/q0dzAA==/colls/q0dzAPXuXj8=/docs/q0dzAPXuX...</td>\n      <td>\"51036f32-0000-0700-0000-63909b5d0000\"</td>\n      <td>attachments/</td>\n      <td>1670421341</td>\n    </tr>\n    <tr>\n      <th>15</th>\n      <td>11635, SE MAY CREEK PARK DR</td>\n      <td>58ffe62b-979d-4b37-8c39-44c6f383da29</td>\n      <td>q0dzAPXuXj8QAAAAAAAAAA==</td>\n      <td>dbs/q0dzAA==/colls/q0dzAPXuXj8=/docs/q0dzAPXuX...</td>\n      <td>\"51037032-0000-0700-0000-63909b5d0000\"</td>\n      <td>attachments/</td>\n      <td>1670421341</td>\n    </tr>\n    <tr>\n      <th>16</th>\n      <td>1561, 139TH LN NE</td>\n      <td>78394ca2-a3ce-4010-80ec-528a52bcfdbb</td>\n      <td>q0dzAPXuXj8RAAAAAAAAAA==</td>\n      <td>dbs/q0dzAA==/colls/q0dzAPXuXj8=/docs/q0dzAPXuX...</td>\n      <td>\"51037132-0000-0700-0000-63909b5d0000\"</td>\n      <td>attachments/</td>\n      <td>1670421341</td>\n    </tr>\n    <tr>\n      <th>17</th>\n      <td>13901, NE 15TH CT</td>\n      <td>b2ff9762-716e-498c-beed-d89eab494ca5</td>\n      <td>q0dzAPXuXj8SAAAAAAAAAA==</td>\n      <td>dbs/q0dzAA==/colls/q0dzAPXuXj8=/docs/q0dzAPXuX...</td>\n      <td>\"51037232-0000-0700-0000-63909b5d0000\"</td>\n      <td>attachments/</td>\n      <td>1670421341</td>\n    </tr>\n    <tr>\n      <th>18</th>\n      <td>1575, 139TH CT NE</td>\n      <td>1922f220-fbe4-4e30-ab54-ccc915b16d99</td>\n      <td>q0dzAPXuXj8TAAAAAAAAAA==</td>\n      <td>dbs/q0dzAA==/colls/q0dzAPXuXj8=/docs/q0dzAPXuX...</td>\n      <td>\"51037332-0000-0700-0000-63909b5d0000\"</td>\n      <td>attachments/</td>\n      <td>1670421341</td>\n    </tr>\n    <tr>\n      <th>19</th>\n      <td>8604, 117TH AVE SE</td>\n      <td>f0684188-126a-4113-8d4b-e76757fb7b7e</td>\n      <td>q0dzAPXuXj8UAAAAAAAAAA==</td>\n      <td>dbs/q0dzAA==/colls/q0dzAPXuXj8=/docs/q0dzAPXuX...</td>\n      <td>\"51037932-0000-0700-0000-63909b5d0000\"</td>\n      <td>attachments/</td>\n      <td>1670421341</td>\n    </tr>\n    <tr>\n      <th>20</th>\n      <td>16365, NE 12TH PL</td>\n      <td>b7b84df6-d834-4316-8d45-9593927e8634</td>\n      <td>q0dzAPXuXj8VAAAAAAAAAA==</td>\n      <td>dbs/q0dzAA==/colls/q0dzAPXuXj8=/docs/q0dzAPXuX...</td>\n      <td>\"51037a32-0000-0700-0000-63909b5d0000\"</td>\n      <td>attachments/</td>\n      <td>1670421341</td>\n    </tr>\n  </tbody>\n</table>\n</div>"
          },
          "metadata": {}
        }
      ],
      "execution_count": 2,
      "metadata": {
        "collapsed": true,
        "jupyter": {
          "source_hidden": false,
          "outputs_hidden": false
        },
        "nteract": {
          "transient": {
            "deleting": false
          }
        },
        "execution": {
          "iopub.status.busy": "2022-12-28T17:06:12.930Z",
          "iopub.status.idle": "2022-12-28T17:06:13.069Z",
          "shell.execute_reply": "2022-12-28T17:06:13.033Z",
          "iopub.execute_input": "2022-12-28T17:06:12.978Z"
        }
      }
    },
    {
      "cell_type": "code",
      "source": [],
      "outputs": [
        {
          "output_type": "error",
          "ename": "SyntaxError",
          "evalue": "invalid syntax (<ipython-input-1-5ab32eb41f6f>, line 1)",
          "traceback": [
            "\u001b[0;36m  File \u001b[0;32m\"<ipython-input-1-5ab32eb41f6f>\"\u001b[0;36m, line \u001b[0;32m1\u001b[0m\n\u001b[0;31m    select * from c\u001b[0m\n\u001b[0m                ^\u001b[0m\n\u001b[0;31mSyntaxError\u001b[0m\u001b[0;31m:\u001b[0m invalid syntax\n"
          ]
        }
      ],
      "execution_count": 1,
      "metadata": {
        "collapsed": true,
        "jupyter": {
          "source_hidden": false,
          "outputs_hidden": false
        },
        "nteract": {
          "transient": {
            "deleting": false
          }
        },
        "execution": {
          "iopub.status.busy": "2022-12-28T17:04:59.489Z",
          "iopub.execute_input": "2022-12-28T17:04:59.510Z"
        }
      }
    }
  ],
  "metadata": {
    "language_info": {
      "name": "python",
      "version": "3.7",
      "mimetype": "application/json",
      "file_extension": "ipynb"
    },
    "nteract": {
      "version": "dataExplorer 1.0"
    }
  },
  "nbformat": 4,
  "nbformat_minor": 0
}